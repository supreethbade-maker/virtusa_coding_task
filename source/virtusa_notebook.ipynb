{
 "cells": [
  {
   "cell_type": "code",
   "execution_count": 0,
   "metadata": {
    "application/vnd.databricks.v1+cell": {
     "cellMetadata": {
      "byteLimit": 2048000,
      "rowLimit": 10000
     },
     "inputWidgets": {},
     "nuid": "2a37adc2-90c4-465e-ac4e-0f9a0a77cae3",
     "showTitle": false,
     "tableResultSettingsMap": {},
     "title": ""
    }
   },
   "outputs": [],
   "source": [
    "from pyspark.sql.types import StructType, StructField, StringType, DoubleType, DateType\n",
    "\n",
    "schema = StructType([\n",
    "    StructField(\"transaction_id\", StringType(), True),\n",
    "    StructField(\"price\", DoubleType(), True),\n",
    "    StructField(\"date_of_transfer\", DateType(), True),\n",
    "    StructField(\"postcode\", StringType(), True),\n",
    "    StructField(\"property_type\", StringType(), True),\n",
    "    StructField(\"old_new\", StringType(), True),\n",
    "    StructField(\"duration\", StringType(), True),\n",
    "    StructField(\"paon\", StringType(), True),\n",
    "    StructField(\"saon\", StringType(), True),\n",
    "    StructField(\"street\", StringType(), True),\n",
    "    StructField(\"locality\", StringType(), True),\n",
    "    StructField(\"town_city\", StringType(), True),\n",
    "    StructField(\"district\", StringType(), True),\n",
    "    StructField(\"county\", StringType(), True),\n",
    "    StructField(\"ppd_category\", StringType(), True),\n",
    "    StructField(\"record_status\", StringType(), True)\n",
    "])\n"
   ]
  },
  {
   "cell_type": "code",
   "execution_count": 0,
   "metadata": {
    "application/vnd.databricks.v1+cell": {
     "cellMetadata": {
      "byteLimit": 2048000,
      "rowLimit": 10000
     },
     "inputWidgets": {},
     "nuid": "754e412e-0460-4a34-8776-0834e8324a4f",
     "showTitle": false,
     "tableResultSettingsMap": {},
     "title": ""
    }
   },
   "outputs": [
    {
     "output_type": "execute_result",
     "data": {
      "text/plain": [
       "30289104"
      ]
     },
     "execution_count": 97,
     "metadata": {},
     "output_type": "execute_result"
    }
   ],
   "source": [
    "\n",
    "data_path = \"/Volumes/workspace/default/virtusa_data/*.csv\"\n",
    "\n",
    "df = (spark.read\n",
    "    .option(\"header\", \"false\")\n",
    "    .schema(schema)\n",
    "    .csv(data_path)\n",
    ")\n",
    "df.count()"
   ]
  },
  {
   "cell_type": "code",
   "execution_count": 0,
   "metadata": {
    "application/vnd.databricks.v1+cell": {
     "cellMetadata": {
      "byteLimit": 2048000,
      "rowLimit": 10000
     },
     "inputWidgets": {},
     "nuid": "165e3433-b9a6-433f-b700-c7e1e6657cfd",
     "showTitle": false,
     "tableResultSettingsMap": {},
     "title": ""
    }
   },
   "outputs": [],
   "source": [
    "from pyspark.sql.functions import year, month\n",
    "\n",
    "df = df.withColumn(\"year\", year(\"date_of_transfer\")) \\\n",
    "       .withColumn(\"month\", month(\"date_of_transfer\"))\n",
    "\n"
   ]
  },
  {
   "cell_type": "code",
   "execution_count": 0,
   "metadata": {
    "application/vnd.databricks.v1+cell": {
     "cellMetadata": {
      "byteLimit": 2048000,
      "rowLimit": 10000
     },
     "inputWidgets": {},
     "nuid": "6d1c34d1-180c-4e6f-803a-406fefb89f00",
     "showTitle": false,
     "tableResultSettingsMap": {},
     "title": ""
    }
   },
   "outputs": [
    {
     "output_type": "execute_result",
     "data": {
      "text/plain": [
       "27368592"
      ]
     },
     "execution_count": 124,
     "metadata": {},
     "output_type": "execute_result"
    }
   ],
   "source": [
    "df_95_to_21=df.filter((df[\"year\"] >= 1995) & (df[\"year\"] <= 2021))\n",
    "df_95_to_21.count()"
   ]
  },
  {
   "cell_type": "code",
   "execution_count": 0,
   "metadata": {
    "application/vnd.databricks.v1+cell": {
     "cellMetadata": {
      "byteLimit": 2048000,
      "rowLimit": 10000
     },
     "inputWidgets": {},
     "nuid": "ba92121d-35e7-4b84-8acd-46faf6c2e550",
     "showTitle": false,
     "tableResultSettingsMap": {},
     "title": ""
    }
   },
   "outputs": [
    {
     "output_type": "execute_result",
     "data": {
      "text/plain": [
       "1278278"
      ]
     },
     "execution_count": 112,
     "metadata": {},
     "output_type": "execute_result"
    }
   ],
   "source": [
    "from pyspark.sql import functions as F\n",
    "df_2021 = df.filter(df[\"year\"] == 2021)\n",
    "df_2021.count()"
   ]
  },
  {
   "cell_type": "code",
   "execution_count": 0,
   "metadata": {
    "application/vnd.databricks.v1+cell": {
     "cellMetadata": {
      "byteLimit": 2048000,
      "rowLimit": 10000
     },
     "inputWidgets": {},
     "nuid": "eccc838e-3b9c-4b13-9fff-0801833a07cc",
     "showTitle": false,
     "tableResultSettingsMap": {},
     "title": ""
    }
   },
   "outputs": [],
   "source": [
    "df_sel = df_2021.select(\n",
    "    \"transaction_id\",\n",
    "    \"price\",\n",
    "    \"postcode\"\n",
    ")"
   ]
  },
  {
   "cell_type": "code",
   "execution_count": 0,
   "metadata": {
    "application/vnd.databricks.v1+cell": {
     "cellMetadata": {
      "byteLimit": 2048000,
      "rowLimit": 10000
     },
     "inputWidgets": {},
     "nuid": "0edab975-8733-4e4e-a21b-4de69d307d50",
     "showTitle": false,
     "tableResultSettingsMap": {},
     "title": ""
    }
   },
   "outputs": [
    {
     "output_type": "stream",
     "name": "stdout",
     "output_type": "stream",
     "text": [
      "+-------------+------------+\n|postcode_area|median_price|\n+-------------+------------+\n|          NP2|     30000.0|\n|          DL4|     56000.0|\n|          TS1|     57000.0|\n|          BD1|     59995.0|\n|         DL17|     62950.0|\n|          SR1|     65000.0|\n|          SR8|     70000.0|\n|         DN31|     70000.0|\n|         BB11|     71000.0|\n|          TS3|     72500.0|\n+-------------+------------+\n\n"
     ]
    }
   ],
   "source": [
    "df_q1 = (\n",
    "    df_sel\n",
    "    .filter(\n",
    "        (F.col(\"price\").isNotNull()) &\n",
    "        (F.col(\"postcode\").isNotNull())\n",
    "    )\n",
    "    .withColumn(\n",
    "    \"postcode_area\", F.split(F.col(\"postcode\"), \" \").getItem(0)\n",
    "    )   \n",
    ")\n",
    "\n",
    "median_prices = (\n",
    "    df_q1.groupBy(\"postcode_area\")\n",
    "    .agg(F.expr(\"percentile_approx(price, 0.5)\").alias(\"median_price\"))\n",
    "    .orderBy(F.col(\"median_price\").asc())\n",
    "    .limit(10)\n",
    ")\n",
    "\n",
    "median_prices.show()"
   ]
  },
  {
   "cell_type": "code",
   "execution_count": 0,
   "metadata": {
    "application/vnd.databricks.v1+cell": {
     "cellMetadata": {
      "byteLimit": 2048000,
      "rowLimit": 10000
     },
     "inputWidgets": {},
     "nuid": "ffc682a5-7165-4f45-bfce-db3a39733e63",
     "showTitle": false,
     "tableResultSettingsMap": {},
     "title": ""
    }
   },
   "outputs": [
    {
     "output_type": "stream",
     "name": "stdout",
     "output_type": "stream",
     "text": [
      "+-------------+------------------+\n|postcode_area|        mean_price|\n+-------------+------------------+\n|          CB9|303575.12658227846|\n|          CB6| 337535.5477137177|\n|          CB7| 341310.2309495897|\n|         CB25|418859.19946808513|\n|         CB24| 435710.0737704918|\n+-------------+------------------+\n\n"
     ]
    }
   ],
   "source": [
    "df_cb = df_sel.withColumn(\"postcode_area\", F.split(F.col(\"postcode\"), \" \").getItem(0))\n",
    "\n",
    "df_cb = df_cb.filter(F.col(\"postcode_area\").startswith(\"CB\"))\n",
    "\n",
    "mean_prices = (\n",
    "    df_cb.groupBy(\"postcode_area\")\n",
    "    .agg(F.mean(\"price\").alias(\"mean_price\"))\n",
    "    .orderBy(\"mean_price\")\n",
    "    .limit(5)\n",
    ")\n",
    "\n",
    "mean_prices.show()"
   ]
  },
  {
   "cell_type": "code",
   "execution_count": 0,
   "metadata": {
    "application/vnd.databricks.v1+cell": {
     "cellMetadata": {
      "byteLimit": 2048000,
      "rowLimit": 10000
     },
     "inputWidgets": {},
     "nuid": "2a85e7c7-9bf7-4560-b6ee-014c87591992",
     "showTitle": false,
     "tableResultSettingsMap": {},
     "title": ""
    }
   },
   "outputs": [
    {
     "output_type": "display_data",
     "data": {
      "text/html": [
       "<style scoped>\n",
       "  .table-result-container {\n",
       "    max-height: 300px;\n",
       "    overflow: auto;\n",
       "  }\n",
       "  table, th, td {\n",
       "    border: 1px solid black;\n",
       "    border-collapse: collapse;\n",
       "  }\n",
       "  th, td {\n",
       "    padding: 5px;\n",
       "  }\n",
       "  th {\n",
       "    text-align: left;\n",
       "  }\n",
       "</style><div class='table-result-container'><table class='table-result'><thead style='background-color: white'><tr><th>postcode_area</th><th>cumulative_median_diff_sum</th></tr></thead><tbody><tr><td>L66</td><td>4000.0</td></tr><tr><td>CF7</td><td>8000.0</td></tr><tr><td>L43</td><td>12000.0</td></tr><tr><td>GL30</td><td>28000.0</td></tr><tr><td>RG3</td><td>86500.0</td></tr><tr><td>L41</td><td>94500.0</td></tr><tr><td>DN31</td><td>98874.0</td></tr><tr><td>ST1</td><td>100210.0</td></tr><tr><td>ST6</td><td>106292.0</td></tr><tr><td>LA14</td><td>107100.0</td></tr><tr><td>TD5</td><td>109000.0</td></tr><tr><td>SR8</td><td>109100.0</td></tr><tr><td>CF43</td><td>110395.0</td></tr><tr><td>TS1</td><td>113000.0</td></tr><tr><td>DN32</td><td>114400.0</td></tr><tr><td>HU5</td><td>114720.0</td></tr><tr><td>W1R</td><td>115050.0</td></tr><tr><td>HU9</td><td>115550.0</td></tr><tr><td>SR4</td><td>115900.0</td></tr><tr><td>CF40</td><td>117450.0</td></tr><tr><td>L4</td><td>118900.0</td></tr><tr><td>ST3</td><td>121000.0</td></tr><tr><td>DN34</td><td>121100.0</td></tr><tr><td>CF42</td><td>121700.0</td></tr><tr><td>L48</td><td>122000.0</td></tr></tbody></table></div>"
      ]
     },
     "metadata": {
      "application/vnd.databricks.v1+output": {
       "addedWidgets": {},
       "aggData": [],
       "aggError": "",
       "aggOverflow": false,
       "aggSchema": [],
       "aggSeriesLimitReached": false,
       "aggType": "",
       "arguments": {},
       "columnCustomDisplayInfos": {},
       "data": [
        [
         "L66",
         4000.0
        ],
        [
         "CF7",
         8000.0
        ],
        [
         "L43",
         12000.0
        ],
        [
         "GL30",
         28000.0
        ],
        [
         "RG3",
         86500.0
        ],
        [
         "L41",
         94500.0
        ],
        [
         "DN31",
         98874.0
        ],
        [
         "ST1",
         100210.0
        ],
        [
         "ST6",
         106292.0
        ],
        [
         "LA14",
         107100.0
        ],
        [
         "TD5",
         109000.0
        ],
        [
         "SR8",
         109100.0
        ],
        [
         "CF43",
         110395.0
        ],
        [
         "TS1",
         113000.0
        ],
        [
         "DN32",
         114400.0
        ],
        [
         "HU5",
         114720.0
        ],
        [
         "W1R",
         115050.0
        ],
        [
         "HU9",
         115550.0
        ],
        [
         "SR4",
         115900.0
        ],
        [
         "CF40",
         117450.0
        ],
        [
         "L4",
         118900.0
        ],
        [
         "ST3",
         121000.0
        ],
        [
         "DN34",
         121100.0
        ],
        [
         "CF42",
         121700.0
        ],
        [
         "L48",
         122000.0
        ]
       ],
       "datasetInfos": [],
       "dbfsResultPath": null,
       "isJsonSchema": true,
       "metadata": {},
       "overflow": false,
       "plotOptions": {
        "customPlotOptions": {},
        "displayType": "table",
        "pivotAggregation": null,
        "pivotColumns": null,
        "xColumns": null,
        "yColumns": null
       },
       "removedWidgets": [],
       "schema": [
        {
         "metadata": "{}",
         "name": "postcode_area",
         "type": "\"string\""
        },
        {
         "metadata": "{}",
         "name": "cumulative_median_diff_sum",
         "type": "\"double\""
        }
       ],
       "type": "table"
      }
     },
     "output_type": "display_data"
    }
   ],
   "source": [
    "from pyspark.sql.window import Window\n",
    "\n",
    "df_q3 = (\n",
    "    df_95_to_21\n",
    "    .filter(\n",
    "        (F.col(\"price\").isNotNull()) &\n",
    "        (F.col(\"postcode\").isNotNull())\n",
    "    )\n",
    "    .withColumn(\n",
    "    \"postcode_area\", F.split(F.col(\"postcode\"), \" \").getItem(0)\n",
    "    )   \n",
    ")\n",
    "medians = (\n",
    "    df_q3.groupBy(\"postcode_area\", \"year\")\n",
    "    .agg(F.expr(\"percentile_approx(price, 0.5)\").alias(\"median_price\"))\n",
    ")\n",
    "\n",
    "w = Window.partitionBy(\"postcode_area\").orderBy(\"year\")\n",
    "\n",
    "medians = medians.withColumn(\n",
    "    \"prev_median\", F.lag(\"median_price\").over(w)\n",
    ").withColumn(\n",
    "    \"median_diff\", F.abs(F.col(\"median_price\") - F.col(\"prev_median\"))\n",
    ")\n",
    "\n",
    "medians_filtered = medians.filter(\n",
    "    (F.col(\"postcode_area\").isNotNull()) & (F.col(\"median_diff\").isNotNull())\n",
    ")\n",
    "\n",
    "diff_sum = (\n",
    "    medians_filtered.groupBy(\"postcode_area\")\n",
    "    .agg(F.sum(\"median_diff\").alias(\"cumulative_median_diff_sum\"))\n",
    "    .orderBy(\"cumulative_median_diff_sum\")\n",
    "    .limit(25)\n",
    ")\n",
    "\n",
    "diff_sum.display()"
   ]
  },
  {
   "cell_type": "code",
   "execution_count": 0,
   "metadata": {
    "application/vnd.databricks.v1+cell": {
     "cellMetadata": {
      "byteLimit": 2048000,
      "rowLimit": 10000
     },
     "inputWidgets": {},
     "nuid": "bd0b4e43-c32a-4262-8422-df8a760d30b5",
     "showTitle": false,
     "tableResultSettingsMap": {},
     "title": ""
    }
   },
   "outputs": [
    {
     "output_type": "display_data",
     "data": {
      "text/html": [
       "<style scoped>\n",
       "  .table-result-container {\n",
       "    max-height: 300px;\n",
       "    overflow: auto;\n",
       "  }\n",
       "  table, th, td {\n",
       "    border: 1px solid black;\n",
       "    border-collapse: collapse;\n",
       "  }\n",
       "  th, td {\n",
       "    padding: 5px;\n",
       "  }\n",
       "  th {\n",
       "    text-align: left;\n",
       "  }\n",
       "</style><div class='table-result-container'><table class='table-result'><thead style='background-color: white'><tr><th>postcode_area</th><th>cum_mean</th></tr></thead><tbody><tr><td>CB9</td><td>513211.04357582383</td></tr><tr><td>CB6</td><td>523251.2574297156</td></tr><tr><td>CB7</td><td>585639.2568889805</td></tr><tr><td>CB8</td><td>1129971.0709551102</td></tr><tr><td>CB5</td><td>2072598.7562686384</td></tr></tbody></table></div>"
      ]
     },
     "metadata": {
      "application/vnd.databricks.v1+output": {
       "addedWidgets": {},
       "aggData": [],
       "aggError": "",
       "aggOverflow": false,
       "aggSchema": [],
       "aggSeriesLimitReached": false,
       "aggType": "",
       "arguments": {},
       "columnCustomDisplayInfos": {},
       "data": [
        [
         "CB9",
         513211.04357582383
        ],
        [
         "CB6",
         523251.2574297156
        ],
        [
         "CB7",
         585639.2568889805
        ],
        [
         "CB8",
         1129971.0709551102
        ],
        [
         "CB5",
         2072598.7562686384
        ]
       ],
       "datasetInfos": [],
       "dbfsResultPath": null,
       "isJsonSchema": true,
       "metadata": {},
       "overflow": false,
       "plotOptions": {
        "customPlotOptions": {},
        "displayType": "table",
        "pivotAggregation": null,
        "pivotColumns": null,
        "xColumns": null,
        "yColumns": null
       },
       "removedWidgets": [],
       "schema": [
        {
         "metadata": "{}",
         "name": "postcode_area",
         "type": "\"string\""
        },
        {
         "metadata": "{}",
         "name": "cum_mean",
         "type": "\"double\""
        }
       ],
       "type": "table"
      }
     },
     "output_type": "display_data"
    }
   ],
   "source": [
    "from pyspark.sql import functions as F\n",
    "from pyspark.sql.window import Window\n",
    "\n",
    "\n",
    "df_q4 = df.withColumn(\n",
    "    \"postcode_area\", F.split(F.col(\"postcode\"), \" \").getItem(0)\n",
    ")\n",
    "\n",
    "df_cb = df_q4.filter(\n",
    "    (F.col(\"year\") >= 1995) & (F.col(\"year\") <= 2025) & (F.col(\"postcode_area\").startswith(\"CB\"))\n",
    ")\n",
    "\n",
    "medians = df_cb.groupBy(\"postcode_area\", \"year\").agg(\n",
    "    F.expr(\"percentile_approx(price, 0.5)\").alias(\"median_price\")\n",
    ")\n",
    "\n",
    "min_medians = medians.groupBy(\"postcode_area\").agg(\n",
    "    F.min(\"median_price\").alias(\"min_median_price\")\n",
    ").orderBy(\"min_median_price\").limit(5)\n",
    "\n",
    "top5_cb_areas = [row[\"postcode_area\"] for row in min_medians.collect()]\n",
    "\n",
    "means = df_cb.filter(F.col(\"postcode_area\").isin(top5_cb_areas)).groupBy(\n",
    "    \"postcode_area\", \"year\"\n",
    ").agg(F.mean(\"price\").alias(\"mean_price\"))\n",
    "\n",
    "w = Window.partitionBy(\"postcode_area\").orderBy(\"year\")\n",
    "\n",
    "means = means.withColumn(\"p_mean\", F.lag(\"mean_price\").over(w)).withColumn(\n",
    "    \"mean_diff\", F.abs(F.col(\"mean_price\") - F.coalesce(F.col(\"p_mean\"), F.lit(0)))\n",
    ")\n",
    "\n",
    "result = means.groupBy(\"postcode_area\").agg(\n",
    "    F.sum(\"mean_diff\").alias(\"cum_mean\")\n",
    ").orderBy(\"cum_mean\")\n",
    "\n",
    "display(result)"
   ]
  },
  {
   "cell_type": "code",
   "execution_count": 0,
   "metadata": {
    "application/vnd.databricks.v1+cell": {
     "cellMetadata": {
      "byteLimit": 2048000,
      "rowLimit": 10000
     },
     "inputWidgets": {},
     "nuid": "c6ebbcbe-5da1-437c-a5ac-98b5f28da903",
     "showTitle": false,
     "tableResultSettingsMap": {},
     "title": ""
    }
   },
   "outputs": [],
   "source": [
    "median_prices.write.mode(\"overwrite\").csv(\"/Volumes/workspace/default/virtusa_data/task1.csv\", header=True)"
   ]
  },
  {
   "cell_type": "code",
   "execution_count": 0,
   "metadata": {
    "application/vnd.databricks.v1+cell": {
     "cellMetadata": {
      "byteLimit": 2048000,
      "rowLimit": 10000
     },
     "inputWidgets": {},
     "nuid": "c7126d13-07a9-4ab4-a7e3-a877ec955818",
     "showTitle": false,
     "tableResultSettingsMap": {},
     "title": ""
    }
   },
   "outputs": [],
   "source": [
    "mean_prices.write.mode(\"overwrite\").csv(\"/Volumes/workspace/default/virtusa_data/task2.csv\", header=True)"
   ]
  },
  {
   "cell_type": "code",
   "execution_count": 0,
   "metadata": {
    "application/vnd.databricks.v1+cell": {
     "cellMetadata": {
      "byteLimit": 2048000,
      "rowLimit": 10000
     },
     "inputWidgets": {},
     "nuid": "d919ed35-eed5-49d0-b8c9-4b5ab832c057",
     "showTitle": false,
     "tableResultSettingsMap": {},
     "title": ""
    }
   },
   "outputs": [],
   "source": [
    "diff_sum.write.mode(\"overwrite\").csv(\"/Volumes/workspace/default/virtusa_data/task03.csv\", header=True)"
   ]
  },
  {
   "cell_type": "code",
   "execution_count": 0,
   "metadata": {
    "application/vnd.databricks.v1+cell": {
     "cellMetadata": {
      "byteLimit": 2048000,
      "rowLimit": 10000
     },
     "inputWidgets": {},
     "nuid": "559762bd-4013-431f-9d89-9d8627b4eb25",
     "showTitle": false,
     "tableResultSettingsMap": {},
     "title": ""
    }
   },
   "outputs": [],
   "source": [
    "result.write.mode(\"overwrite\").csv(\"/Volumes/workspace/default/virtusa_data/task4.csv\", header=True)"
   ]
  }
 ],
 "metadata": {
  "application/vnd.databricks.v1+notebook": {
   "computePreferences": null,
   "dashboards": [],
   "environmentMetadata": {
    "base_environment": "",
    "environment_version": "2"
   },
   "inputWidgetPreferences": null,
   "language": "python",
   "notebookMetadata": {
    "pythonIndentUnit": 4
   },
   "notebookName": "virtusa_notebook",
   "widgets": {}
  },
  "language_info": {
   "name": "python"
  }
 },
 "nbformat": 4,
 "nbformat_minor": 0
}